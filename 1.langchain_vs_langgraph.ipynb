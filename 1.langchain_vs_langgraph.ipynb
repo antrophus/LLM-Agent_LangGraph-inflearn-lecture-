{
 "cells": [
  {
   "cell_type": "code",
   "execution_count": 1,
   "metadata": {},
   "outputs": [
    {
     "name": "stdout",
     "output_type": "stream",
     "text": [
      "Note: you may need to restart the kernel to use updated packages.\n"
     ]
    }
   ],
   "source": [
    "## 의존성 추가 (환경변수, 랭체인 구글 제미나이)\n",
    "\n",
    "%pip install -q python-dotenv langchain-google-genai"
   ]
  },
  {
   "cell_type": "code",
   "execution_count": 3,
   "metadata": {},
   "outputs": [
    {
     "data": {
      "text/plain": [
       "AIMessage(content='인프런은 다양한 분야의 온라인 강의를 제공하는 플랫폼입니다. 크게 다음과 같은 카테고리로 분류할 수 있으며, 각 카테고리 내에도 세부적인 주제들이 다양하게 존재합니다.\\n\\n**1. 프로그래밍:**\\n\\n*   **웹 개발:** 프론트엔드(HTML, CSS, JavaScript, React, Vue.js, Angular), 백엔드(Java, Python, Node.js, Spring, Django, Flask), 풀스택 개발\\n*   **모바일 앱 개발:** Android, iOS, Flutter, React Native\\n*   **게임 개발:** Unity, Unreal Engine\\n*   **데이터 분석/과학:** Python, R, SQL, 머신러닝, 딥러닝, 데이터 시각화\\n*   **알고리즘/자료구조:** 코딩 테스트 준비, 알고리즘 기초, 자료구조 학습\\n*   **프로그래밍 언어:** C, C++, Java, Python, JavaScript, Go, Kotlin, Swift 등 다양한 언어 학습\\n*   **클라우드:** AWS, Azure, GCP\\n*   **DevOps:** Docker, Kubernetes, CI/CD\\n\\n**2. 데이터 사이언스:**\\n\\n*   **데이터 분석:** 통계, SQL, 데이터 시각화\\n*   **머신러닝:** 지도 학습, 비지도 학습, 모델 평가\\n*   **딥러닝:** 인공 신경망, CNN, RNN, 자연어 처리\\n*   **데이터 엔지니어링:** 데이터 파이프라인, 빅데이터 처리\\n\\n**3. 디자인:**\\n\\n*   **UI/UX 디자인:** Figma, Adobe XD, Sketch\\n*   **웹 디자인:** 포토샵, 일러스트레이터, 웹 퍼블리싱\\n*   **영상 편집:** 프리미어 프로, 에프터 이펙트\\n*   **그래픽 디자인:** 로고 디자인, 브랜딩\\n\\n**4. 마케팅:**\\n\\n*   **디지털 마케팅:** SEO, 소셜 미디어 마케팅, 콘텐츠 마케팅\\n*   **데이터 기반 마케팅:** Google Analytics, A/B 테스트\\n*   **마케팅 전략:** 브랜딩, 시장 조사\\n\\n**5. 비즈니스/커리어:**\\n\\n*   **기획/PM:** 서비스 기획, 프로젝트 관리\\n*   **창업/스타트업:** 사업 계획, 투자 유치\\n*   **커뮤니케이션:** 프레젠테이션, 협상\\n*   **리더십:** 팀 관리, 동기 부여\\n\\n**6. 기타:**\\n\\n*   **엑셀/파워포인트:** 업무 자동화, 자료 분석\\n*   **외국어:** 영어, 일본어, 중국어\\n*   **취업/이직:** 코딩 테스트, 면접 준비\\n\\n**인프런 강의의 특징:**\\n\\n*   **실무 중심:** 현업 개발자, 디자이너, 마케터 등 전문가들이 실무 경험을 바탕으로 강의를 제작합니다.\\n*   **다양한 난이도:** 초급부터 고급까지 다양한 수준의 강의를 제공하여 학습자의 수준에 맞는 강의를 선택할 수 있습니다.\\n*   **체계적인 커리큘럼:** 기초부터 심화까지 체계적인 커리큘럼을 제공하여 효율적인 학습을 돕습니다.\\n*   **실습 환경 제공:** 강의 내용과 함께 실습 환경을 제공하여 실제 개발/디자인/마케팅 경험을 쌓을 수 있습니다.\\n*   **질의응답:** 강사에게 질문하고 답변을 받을 수 있는 기능을 제공합니다.\\n*   **커뮤니티:** 학습자 간의 커뮤니티를 통해 정보를 공유하고 학습을 독려합니다.\\n\\n**인프런에서 강의를 찾는 방법:**\\n\\n1.  **인프런 웹사이트 또는 앱 방문:** [https://www.inflearn.com/](https://www.inflearn.com/)\\n2.  **카테고리 탐색:** 메인 페이지 또는 상단 메뉴에서 관심 있는 카테고리를 선택합니다.\\n3.  **검색 기능 활용:** 특정 키워드를 검색하여 원하는 강의를 찾습니다.\\n4.  **필터 기능 활용:** 난이도, 가격, 강사, 리뷰 수 등 다양한 필터를 사용하여 강의를 정렬하고 필터링할 수 있습니다.\\n5.  **강의 상세 정보 확인:** 강의 소개, 커리큘럼, 수강 후기 등을 확인하고 강의를 선택합니다.\\n\\n인프런에서는 다양한 할인 행사와 이벤트도 진행하고 있으니, 관심 있는 분야의 강의를 찾아보시고 학습 목표를 달성하시길 바랍니다.\\n\\n혹시 특정 분야나 학습 목표가 있으시다면 더 자세한 강의 추천을 해드릴 수 있습니다. 편하게 질문해주세요!', additional_kwargs={}, response_metadata={'prompt_feedback': {'block_reason': 0, 'safety_ratings': []}, 'finish_reason': 'STOP', 'safety_ratings': [{'category': 'HARM_CATEGORY_HATE_SPEECH', 'probability': 'NEGLIGIBLE', 'blocked': False}, {'category': 'HARM_CATEGORY_DANGEROUS_CONTENT', 'probability': 'NEGLIGIBLE', 'blocked': False}, {'category': 'HARM_CATEGORY_HARASSMENT', 'probability': 'NEGLIGIBLE', 'blocked': False}, {'category': 'HARM_CATEGORY_SEXUALLY_EXPLICIT', 'probability': 'NEGLIGIBLE', 'blocked': False}]}, id='run-a8256812-a564-4c5d-918b-fda502eb89e7-0', usage_metadata={'input_tokens': 14, 'output_tokens': 1189, 'total_tokens': 1203, 'input_token_details': {'cache_read': 0}})"
      ]
     },
     "execution_count": 3,
     "metadata": {},
     "output_type": "execute_result"
    }
   ],
   "source": [
    "## LLM 호출 테스트 (랭체인 구글 제미나이)\n",
    "\n",
    "from langchain_google_genai import ChatGoogleGenerativeAI\n",
    "\n",
    "query = '인프런에는 어떤 강의가 있나요?'\n",
    "\n",
    "llm = ChatGoogleGenerativeAI(model=\"gemini-2.0-flash-exp\")\n",
    "llm.invoke(query)"
   ]
  },
  {
   "cell_type": "code",
   "execution_count": 9,
   "metadata": {},
   "outputs": [
    {
     "name": "stdout",
     "output_type": "stream",
     "text": [
      "Note: you may need to restart the kernel to use updated packages.\n"
     ]
    }
   ],
   "source": [
    "## 랭그래프 의존성 추가\n",
    "## 랭그래프 타입 정의 (스테이트)\n",
    "# 스테이트, 노드, 엣지, 컨디셔널 엣지(State, Node, Edge, ConditionalEdge)\n",
    "#  - 노드 : Agent가 수행하는 작업(1.다른 Agent:사용자의 요청에 따라 A, B, C Agent가 될 수 있다. 2.함수)\n",
    "#   -- RAG의 목적 : 사용자의 요청(query)에 따라 적절한 데이터를 찾아서(retriever) 사용자에게 제공할 답변을 생성(generate) : 이런것들(retriever, generate)이 노드에 해당. \n",
    "#  - 엣지 : 노드와 노드를 연결하는 것, 노드와 노드의 관계를 뜻함. 실선으로 연결되면 다음 단계는 무조건 실선으로 연결된 노드가 수행되어야 함. \n",
    "#  - 컨디셔널 엣지 : 조건에 따라 다음 단계가 실선으로 연결된 노드가 수행될 수도 있고, 점선으로 연결된 노드가 수행될 수도 있음. (효율적)\n",
    "\n",
    "%pip install -q langgraph\n"
   ]
  },
  {
   "cell_type": "code",
   "execution_count": 10,
   "metadata": {},
   "outputs": [],
   "source": [
    "## 상태(State) 선언과 상태 선언을 위한 패키지 설치\n",
    " # 여기서 state는 TypedDict로 선언되어 있음. dinctionary로 무언가 값을 관리.\n",
    " # messages는 list고 Anymessage라고 되어 있는 것은 예전에 system message, human message, ai message 등이 있었는데 이것을 통합한 것으로 langchain core에 있는 AnyMessage라는 클래스.\n",
    " # add_messages라는 ranggraph의 메서드를 활용해서 이 값들이 추가되는 것.\n",
    "\n",
    "from typing import Annotated\n",
    "from typing_extensions import TypedDict\n",
    "\n",
    "from langgraph.graph.message import add_messages\n",
    "from langchain_core.messages import AnyMessage\n",
    "\n",
    "class AgentState(TypedDict):\n",
    "    messages: list[Annotated[AnyMessage, add_messages]]\n"
   ]
  },
  {
   "cell_type": "code",
   "execution_count": 11,
   "metadata": {},
   "outputs": [],
   "source": [
    "## 랭그래프 그래프 빌더 선언\n",
    " #상태 선언을 위한 패키지 설치와 선언을 했으니 이제 그래프 빌더를 만들어보자.\n",
    "\n",
    "from langgraph.graph import StateGraph\n",
    "\n",
    "graph_builder = StateGraph(AgentState)\n"
   ]
  },
  {
   "cell_type": "code",
   "execution_count": 12,
   "metadata": {},
   "outputs": [],
   "source": [
    "# # 그래프 빌더를 만들었으니, 노드와 엣지를 추가해보자.\n",
    "\n",
    "#  - 노드는 작업이고\n",
    "#  - 엣지는 노드들을 연결하는 것.\n",
    "#  - 따라서 노드를 먼저 만들어야 함.\n",
    "\n",
    "# # 위에 랭체인에서 LLM 인보크를 했던 것과 유사하게, generate라는 노드를 만들어보겠다.\n",
    "#  1) 노드이기 때문에 state를 인자로 받는다(노드는 작업이기 때문에 노드 함수를 만들어야 한다). -> state를 return 해야 함.\n",
    "#  2) generate니까 llm을 호출해야 함.\n",
    "#  3) return에 {'messages': [ai_message]}를 해주는 이유는 messages가 list이기 때문이다.\n",
    "\n",
    "# 노드 선언\n",
    "def generate(state:AgentState) -> AgentState:\n",
    "    messages = state['messages']\n",
    "    ai_message = llm.invoke(messages)\n",
    "    return {'messages': [ai_message]}\n"
   ]
  },
  {
   "cell_type": "code",
   "execution_count": 13,
   "metadata": {},
   "outputs": [
    {
     "data": {
      "text/plain": [
       "<langgraph.graph.state.StateGraph at 0x2031b412420>"
      ]
     },
     "execution_count": 13,
     "metadata": {},
     "output_type": "execute_result"
    }
   ],
   "source": [
    "## 모든 ranggraph는 시작과 끝이 있음.\n",
    "#  - 시작은 START, 끝은 END\n",
    "#  - START, END는 엣지인데, 랭그래프에서 제공하는 상수이다.\n",
    "#  - 노드 선언 후 그래프 빌더에 추가해야 함.\n",
    "\n",
    "# 노드 추가\n",
    "graph_builder.add_node('generate', generate)\n",
    "\n"
   ]
  },
  {
   "cell_type": "code",
   "execution_count": 14,
   "metadata": {},
   "outputs": [
    {
     "data": {
      "text/plain": [
       "<langgraph.graph.state.StateGraph at 0x2031b412420>"
      ]
     },
     "execution_count": 14,
     "metadata": {},
     "output_type": "execute_result"
    }
   ],
   "source": [
    "from langgraph.graph import START, END\n",
    "\n",
    "# 엣지 추가\n",
    "graph_builder.add_edge(START, 'generate')\n",
    "graph_builder.add_edge('generate', END)\n",
    "\n"
   ]
  },
  {
   "cell_type": "code",
   "execution_count": 15,
   "metadata": {},
   "outputs": [],
   "source": [
    "# 그래프 빌더 완성\n",
    "graph = graph_builder.compile()\n",
    "\n"
   ]
  },
  {
   "cell_type": "code",
   "execution_count": 16,
   "metadata": {},
   "outputs": [
    {
     "data": {
      "image/png": "[encoded data removed]",
      "text/plain": [
       "<IPython.core.display.Image object>"
      ]
     },
     "metadata": {},
     "output_type": "display_data"
    }
   ],
   "source": [
    "## 그래프 시각화\n",
    "\n",
    "from IPython.display import display, Image\n",
    "\n",
    "display(Image(graph.get_graph().draw_mermaid_png()))\n"
   ]
  },
  {
   "cell_type": "code",
   "execution_count": 17,
   "metadata": {},
   "outputs": [
    {
     "data": {
      "text/plain": [
       "{'messages': [AIMessage(content='인프런은 IT, 프로그래밍, 디자인, 마케팅, 비즈니스 등 다양한 분야의 온라인 강의를 제공하는 플랫폼입니다. \\n\\n**주요 분야별 강의 예시:**\\n\\n* **프로그래밍:**\\n    * **웹 개발:** HTML, CSS, JavaScript, React, Vue.js, Angular, Node.js, Spring, Django, Ruby on Rails 등\\n    * **앱 개발:** Android, iOS, Flutter, React Native 등\\n    * **데이터 분석/과학:** Python, R, SQL, 머신러닝, 딥러닝, 데이터 시각화 등\\n    * **게임 개발:** Unity, Unreal Engine 등\\n    * **알고리즘/자료구조:** 코딩 테스트 준비, 알고리즘 기초/심화 학습\\n    * **프로그래밍 언어:** Java, C++, C#, Go, Kotlin, Swift 등\\n* **데이터베이스:**\\n    * **SQL:** 기초, 심화, 튜닝\\n    * **NoSQL:** MongoDB, Redis\\n    * **데이터 모델링**\\n* **클라우드:**\\n    * **AWS, GCP, Azure:** 클라우드 기초, 서버리스, 인프라 구축\\n    * **Docker, Kubernetes:** 컨테이너 기술\\n* **보안:**\\n    * **정보보안:** 네트워크 보안, 웹 보안, 시스템 보안\\n    * **해킹/보안 분석**\\n* **디자인:**\\n    * **UI/UX 디자인:** Figma, Adobe XD\\n    * **그래픽 디자인:** Photoshop, Illustrator\\n    * **웹 디자인:** 반응형 웹 디자인\\n* **마케팅:**\\n    * **디지털 마케팅:** SEO, 콘텐츠 마케팅, 소셜 미디어 마케팅\\n    * **데이터 기반 마케팅**\\n* **비즈니스:**\\n    * **기획/전략:** 사업 기획, 프로젝트 관리\\n    * **리더십/조직 관리**\\n    * **창업/스타트업**\\n    * **재무/회계**\\n* **커리어:**\\n    * **취업/이직 준비:** 코딩 테스트, 면접 준비\\n    * **커리어 컨설팅**\\n\\n**강의 특징:**\\n\\n* **다양한 수준:** 입문, 초급, 중급, 고급 등 다양한 수준의 강의 제공\\n* **실무 중심:** 실무 경험이 풍부한 강사들이 실전 지식과 노하우 전달\\n* **실습 위주:** 이론 학습과 함께 실제 코딩, 디자인, 분석 등을 실습할 수 있는 환경 제공\\n* **커뮤니티:** 수강생 간의 질의응답, 스터디 등을 위한 커뮤니티 운영\\n* **할인 이벤트:** 다양한 할인 이벤트와 쿠폰 제공\\n\\n**인프런에서 강의를 찾는 방법:**\\n\\n* **키워드 검색:** 배우고 싶은 분야나 기술 키워드를 검색하여 강의를 찾을 수 있습니다.\\n* **카테고리 탐색:** 분야별 카테고리를 탐색하여 원하는 강의를 찾을 수 있습니다.\\n* **추천 강의:** 인프런에서 추천하는 인기 강의를 확인할 수 있습니다.\\n* **강사 검색:** 특정 강사의 강의를 찾아볼 수 있습니다.\\n\\n인프런 웹사이트([https://www.inflearn.com/](https://www.inflearn.com/))에 방문하여 직접 다양한 강의를 살펴보시는 것을 추천합니다. 관심 있는 분야의 강의를 검색하거나, 카테고리별로 둘러보시면 더욱 많은 정보를 얻으실 수 있습니다.\\n\\n혹시 특정 분야나 기술에 대해 궁금한 점이 있으시면 다시 질문해주세요. 제가 아는 범위 내에서 최대한 자세하게 답변해 드리겠습니다.', additional_kwargs={}, response_metadata={'prompt_feedback': {'block_reason': 0, 'safety_ratings': []}, 'finish_reason': 'STOP', 'safety_ratings': [{'category': 'HARM_CATEGORY_HATE_SPEECH', 'probability': 'NEGLIGIBLE', 'blocked': False}, {'category': 'HARM_CATEGORY_DANGEROUS_CONTENT', 'probability': 'NEGLIGIBLE', 'blocked': False}, {'category': 'HARM_CATEGORY_HARASSMENT', 'probability': 'NEGLIGIBLE', 'blocked': False}, {'category': 'HARM_CATEGORY_SEXUALLY_EXPLICIT', 'probability': 'NEGLIGIBLE', 'blocked': False}]}, id='run-36542c21-d7b0-4f11-8a8b-130aefb2edaf-0', usage_metadata={'input_tokens': 14, 'output_tokens': 935, 'total_tokens': 949, 'input_token_details': {'cache_read': 0}})]}"
      ]
     },
     "execution_count": 17,
     "metadata": {},
     "output_type": "execute_result"
    }
   ],
   "source": [
    "## 기본 Agent가 생성되었다. 이제 이걸 호출 해보자.\n",
    "#  - 1) LLM에서 했던 것 처럼 invoke를 해주면 된다. generate라는 노드가 state를 인자로 받기에 이를 넣어주면 된다.\n",
    "#  - 2) 기본 state를 만들어줘야 한다. : 사용자가 질문을 하니까 사용자가 질문을 하면 그 질문을 넣어주면 된다.\n",
    "#  - 3) 사용자의 query를 넣어 준 다음에 그래프 invoke를 해주면 langgraph를 통해서 LLM의 응답을 받을 수 있다.\n",
    "\n",
    "from langchain_core.messages import HumanMessage\n",
    "\n",
    "initioal_state = {'messages': [HumanMessage(query)]}\n",
    "\n",
    "graph.invoke(initioal_state)\n",
    "\n"
   ]
  }
 ],
 "metadata": {
  "kernelspec": {
   "display_name": "inflearn-langgraph-lecture",
   "language": "python",
   "name": "python3"
  },
  "language_info": {
   "codemirror_mode": {
    "name": "ipython",
    "version": 3
   },
   "file_extension": ".py",
   "mimetype": "text/x-python",
   "name": "python",
   "nbconvert_exporter": "python",
   "pygments_lexer": "ipython3",
   "version": "3.12.2"
  }
 },
 "nbformat": 4,
 "nbformat_minor": 2
}
