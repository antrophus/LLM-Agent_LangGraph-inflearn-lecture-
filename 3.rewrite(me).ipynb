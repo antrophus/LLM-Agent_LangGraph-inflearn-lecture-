{
 "cells": [
  {
   "cell_type": "code",
   "execution_count": 1,
   "metadata": {},
   "outputs": [
    {
     "name": "stdout",
     "output_type": "stream",
     "text": [
      "Requirement already satisfied: jupyter in c:\\users\\antro\\miniforge3\\envs\\inflearn-langgraph-lecture\\lib\\site-packages (1.1.1)\n",
      "Requirement already satisfied: ipywidgets in c:\\users\\antro\\miniforge3\\envs\\inflearn-langgraph-lecture\\lib\\site-packages (8.1.5)\n",
      "Requirement already satisfied: notebook in c:\\users\\antro\\miniforge3\\envs\\inflearn-langgraph-lecture\\lib\\site-packages (from jupyter) (7.3.2)\n",
      "Requirement already satisfied: jupyter-console in c:\\users\\antro\\miniforge3\\envs\\inflearn-langgraph-lecture\\lib\\site-packages (from jupyter) (6.6.3)\n",
      "Requirement already satisfied: nbconvert in c:\\users\\antro\\miniforge3\\envs\\inflearn-langgraph-lecture\\lib\\site-packages (from jupyter) (7.16.6)\n",
      "Requirement already satisfied: ipykernel in c:\\users\\antro\\miniforge3\\envs\\inflearn-langgraph-lecture\\lib\\site-packages (from jupyter) (6.29.5)\n",
      "Requirement already satisfied: jupyterlab in c:\\users\\antro\\miniforge3\\envs\\inflearn-langgraph-lecture\\lib\\site-packages (from jupyter) (4.3.5)\n",
      "Requirement already satisfied: comm>=0.1.3 in c:\\users\\antro\\miniforge3\\envs\\inflearn-langgraph-lecture\\lib\\site-packages (from ipywidgets) (0.2.2)\n",
      "Requirement already satisfied: ipython>=6.1.0 in c:\\users\\antro\\miniforge3\\envs\\inflearn-langgraph-lecture\\lib\\site-packages (from ipywidgets) (8.31.0)\n",
      "Requirement already satisfied: traitlets>=4.3.1 in c:\\users\\antro\\miniforge3\\envs\\inflearn-langgraph-lecture\\lib\\site-packages (from ipywidgets) (5.14.3)\n",
      "Requirement already satisfied: widgetsnbextension~=4.0.12 in c:\\users\\antro\\miniforge3\\envs\\inflearn-langgraph-lecture\\lib\\site-packages (from ipywidgets) (4.0.13)\n",
      "Requirement already satisfied: jupyterlab-widgets~=3.0.12 in c:\\users\\antro\\miniforge3\\envs\\inflearn-langgraph-lecture\\lib\\site-packages (from ipywidgets) (3.0.13)\n",
      "Requirement already satisfied: colorama in c:\\users\\antro\\miniforge3\\envs\\inflearn-langgraph-lecture\\lib\\site-packages (from ipython>=6.1.0->ipywidgets) (0.4.6)\n",
      "Requirement already satisfied: decorator in c:\\users\\antro\\miniforge3\\envs\\inflearn-langgraph-lecture\\lib\\site-packages (from ipython>=6.1.0->ipywidgets) (5.1.1)\n",
      "Requirement already satisfied: jedi>=0.16 in c:\\users\\antro\\miniforge3\\envs\\inflearn-langgraph-lecture\\lib\\site-packages (from ipython>=6.1.0->ipywidgets) (0.19.2)\n",
      "Requirement already satisfied: matplotlib-inline in c:\\users\\antro\\miniforge3\\envs\\inflearn-langgraph-lecture\\lib\\site-packages (from ipython>=6.1.0->ipywidgets) (0.1.7)\n",
      "Requirement already satisfied: prompt_toolkit<3.1.0,>=3.0.41 in c:\\users\\antro\\miniforge3\\envs\\inflearn-langgraph-lecture\\lib\\site-packages (from ipython>=6.1.0->ipywidgets) (3.0.50)\n",
      "Requirement already satisfied: pygments>=2.4.0 in c:\\users\\antro\\miniforge3\\envs\\inflearn-langgraph-lecture\\lib\\site-packages (from ipython>=6.1.0->ipywidgets) (2.19.1)\n",
      "Requirement already satisfied: stack_data in c:\\users\\antro\\miniforge3\\envs\\inflearn-langgraph-lecture\\lib\\site-packages (from ipython>=6.1.0->ipywidgets) (0.6.3)\n",
      "Requirement already satisfied: debugpy>=1.6.5 in c:\\users\\antro\\miniforge3\\envs\\inflearn-langgraph-lecture\\lib\\site-packages (from ipykernel->jupyter) (1.8.12)\n",
      "Requirement already satisfied: jupyter-client>=6.1.12 in c:\\users\\antro\\miniforge3\\envs\\inflearn-langgraph-lecture\\lib\\site-packages (from ipykernel->jupyter) (8.6.3)\n",
      "Requirement already satisfied: jupyter-core!=5.0.*,>=4.12 in c:\\users\\antro\\miniforge3\\envs\\inflearn-langgraph-lecture\\lib\\site-packages (from ipykernel->jupyter) (5.7.2)\n",
      "Requirement already satisfied: nest-asyncio in c:\\users\\antro\\miniforge3\\envs\\inflearn-langgraph-lecture\\lib\\site-packages (from ipykernel->jupyter) (1.6.0)\n",
      "Requirement already satisfied: packaging in c:\\users\\antro\\miniforge3\\envs\\inflearn-langgraph-lecture\\lib\\site-packages (from ipykernel->jupyter) (24.2)\n",
      "Requirement already satisfied: psutil in c:\\users\\antro\\miniforge3\\envs\\inflearn-langgraph-lecture\\lib\\site-packages (from ipykernel->jupyter) (6.1.1)\n",
      "Requirement already satisfied: pyzmq>=24 in c:\\users\\antro\\miniforge3\\envs\\inflearn-langgraph-lecture\\lib\\site-packages (from ipykernel->jupyter) (26.2.1)\n",
      "Requirement already satisfied: tornado>=6.1 in c:\\users\\antro\\miniforge3\\envs\\inflearn-langgraph-lecture\\lib\\site-packages (from ipykernel->jupyter) (6.4.2)\n",
      "Requirement already satisfied: async-lru>=1.0.0 in c:\\users\\antro\\miniforge3\\envs\\inflearn-langgraph-lecture\\lib\\site-packages (from jupyterlab->jupyter) (2.0.4)\n",
      "Requirement already satisfied: httpx>=0.25.0 in c:\\users\\antro\\miniforge3\\envs\\inflearn-langgraph-lecture\\lib\\site-packages (from jupyterlab->jupyter) (0.27.2)\n",
      "Requirement already satisfied: jinja2>=3.0.3 in c:\\users\\antro\\miniforge3\\envs\\inflearn-langgraph-lecture\\lib\\site-packages (from jupyterlab->jupyter) (3.1.5)\n",
      "Requirement already satisfied: jupyter-lsp>=2.0.0 in c:\\users\\antro\\miniforge3\\envs\\inflearn-langgraph-lecture\\lib\\site-packages (from jupyterlab->jupyter) (2.2.5)\n",
      "Requirement already satisfied: jupyter-server<3,>=2.4.0 in c:\\users\\antro\\miniforge3\\envs\\inflearn-langgraph-lecture\\lib\\site-packages (from jupyterlab->jupyter) (2.15.0)\n",
      "Requirement already satisfied: jupyterlab-server<3,>=2.27.1 in c:\\users\\antro\\miniforge3\\envs\\inflearn-langgraph-lecture\\lib\\site-packages (from jupyterlab->jupyter) (2.27.3)\n",
      "Requirement already satisfied: notebook-shim>=0.2 in c:\\users\\antro\\miniforge3\\envs\\inflearn-langgraph-lecture\\lib\\site-packages (from jupyterlab->jupyter) (0.2.4)\n",
      "Requirement already satisfied: setuptools>=40.8.0 in c:\\users\\antro\\miniforge3\\envs\\inflearn-langgraph-lecture\\lib\\site-packages (from jupyterlab->jupyter) (75.8.0)\n",
      "Requirement already satisfied: beautifulsoup4 in c:\\users\\antro\\miniforge3\\envs\\inflearn-langgraph-lecture\\lib\\site-packages (from nbconvert->jupyter) (4.12.3)\n",
      "Requirement already satisfied: bleach!=5.0.0 in c:\\users\\antro\\miniforge3\\envs\\inflearn-langgraph-lecture\\lib\\site-packages (from bleach[css]!=5.0.0->nbconvert->jupyter) (6.2.0)\n",
      "Requirement already satisfied: defusedxml in c:\\users\\antro\\miniforge3\\envs\\inflearn-langgraph-lecture\\lib\\site-packages (from nbconvert->jupyter) (0.7.1)\n",
      "Requirement already satisfied: jupyterlab-pygments in c:\\users\\antro\\miniforge3\\envs\\inflearn-langgraph-lecture\\lib\\site-packages (from nbconvert->jupyter) (0.3.0)\n",
      "Requirement already satisfied: markupsafe>=2.0 in c:\\users\\antro\\miniforge3\\envs\\inflearn-langgraph-lecture\\lib\\site-packages (from nbconvert->jupyter) (3.0.2)\n",
      "Requirement already satisfied: mistune<4,>=2.0.3 in c:\\users\\antro\\miniforge3\\envs\\inflearn-langgraph-lecture\\lib\\site-packages (from nbconvert->jupyter) (3.1.1)\n",
      "Requirement already satisfied: nbclient>=0.5.0 in c:\\users\\antro\\miniforge3\\envs\\inflearn-langgraph-lecture\\lib\\site-packages (from nbconvert->jupyter) (0.10.2)\n",
      "Requirement already satisfied: nbformat>=5.7 in c:\\users\\antro\\miniforge3\\envs\\inflearn-langgraph-lecture\\lib\\site-packages (from nbconvert->jupyter) (5.10.4)\n",
      "Requirement already satisfied: pandocfilters>=1.4.1 in c:\\users\\antro\\miniforge3\\envs\\inflearn-langgraph-lecture\\lib\\site-packages (from nbconvert->jupyter) (1.5.1)\n",
      "Requirement already satisfied: webencodings in c:\\users\\antro\\miniforge3\\envs\\inflearn-langgraph-lecture\\lib\\site-packages (from bleach!=5.0.0->bleach[css]!=5.0.0->nbconvert->jupyter) (0.5.1)\n",
      "Requirement already satisfied: tinycss2<1.5,>=1.1.0 in c:\\users\\antro\\miniforge3\\envs\\inflearn-langgraph-lecture\\lib\\site-packages (from bleach[css]!=5.0.0->nbconvert->jupyter) (1.4.0)\n",
      "Requirement already satisfied: anyio in c:\\users\\antro\\miniforge3\\envs\\inflearn-langgraph-lecture\\lib\\site-packages (from httpx>=0.25.0->jupyterlab->jupyter) (4.8.0)\n",
      "Requirement already satisfied: certifi in c:\\users\\antro\\miniforge3\\envs\\inflearn-langgraph-lecture\\lib\\site-packages (from httpx>=0.25.0->jupyterlab->jupyter) (2025.1.31)\n",
      "Requirement already satisfied: httpcore==1.* in c:\\users\\antro\\miniforge3\\envs\\inflearn-langgraph-lecture\\lib\\site-packages (from httpx>=0.25.0->jupyterlab->jupyter) (1.0.7)\n",
      "Requirement already satisfied: idna in c:\\users\\antro\\miniforge3\\envs\\inflearn-langgraph-lecture\\lib\\site-packages (from httpx>=0.25.0->jupyterlab->jupyter) (3.10)\n",
      "Requirement already satisfied: sniffio in c:\\users\\antro\\miniforge3\\envs\\inflearn-langgraph-lecture\\lib\\site-packages (from httpx>=0.25.0->jupyterlab->jupyter) (1.3.1)\n",
      "Requirement already satisfied: h11<0.15,>=0.13 in c:\\users\\antro\\miniforge3\\envs\\inflearn-langgraph-lecture\\lib\\site-packages (from httpcore==1.*->httpx>=0.25.0->jupyterlab->jupyter) (0.14.0)\n",
      "Requirement already satisfied: parso<0.9.0,>=0.8.4 in c:\\users\\antro\\miniforge3\\envs\\inflearn-langgraph-lecture\\lib\\site-packages (from jedi>=0.16->ipython>=6.1.0->ipywidgets) (0.8.4)\n",
      "Requirement already satisfied: python-dateutil>=2.8.2 in c:\\users\\antro\\miniforge3\\envs\\inflearn-langgraph-lecture\\lib\\site-packages (from jupyter-client>=6.1.12->ipykernel->jupyter) (2.9.0.post0)\n",
      "Requirement already satisfied: platformdirs>=2.5 in c:\\users\\antro\\miniforge3\\envs\\inflearn-langgraph-lecture\\lib\\site-packages (from jupyter-core!=5.0.*,>=4.12->ipykernel->jupyter) (4.3.6)\n",
      "Requirement already satisfied: pywin32>=300 in c:\\users\\antro\\miniforge3\\envs\\inflearn-langgraph-lecture\\lib\\site-packages (from jupyter-core!=5.0.*,>=4.12->ipykernel->jupyter) (307)\n",
      "Requirement already satisfied: argon2-cffi>=21.1 in c:\\users\\antro\\miniforge3\\envs\\inflearn-langgraph-lecture\\lib\\site-packages (from jupyter-server<3,>=2.4.0->jupyterlab->jupyter) (23.1.0)\n",
      "Requirement already satisfied: jupyter-events>=0.11.0 in c:\\users\\antro\\miniforge3\\envs\\inflearn-langgraph-lecture\\lib\\site-packages (from jupyter-server<3,>=2.4.0->jupyterlab->jupyter) (0.11.0)\n",
      "Requirement already satisfied: jupyter-server-terminals>=0.4.4 in c:\\users\\antro\\miniforge3\\envs\\inflearn-langgraph-lecture\\lib\\site-packages (from jupyter-server<3,>=2.4.0->jupyterlab->jupyter) (0.5.3)\n",
      "Requirement already satisfied: overrides>=5.0 in c:\\users\\antro\\miniforge3\\envs\\inflearn-langgraph-lecture\\lib\\site-packages (from jupyter-server<3,>=2.4.0->jupyterlab->jupyter) (7.7.0)\n",
      "Requirement already satisfied: prometheus-client>=0.9 in c:\\users\\antro\\miniforge3\\envs\\inflearn-langgraph-lecture\\lib\\site-packages (from jupyter-server<3,>=2.4.0->jupyterlab->jupyter) (0.21.1)\n",
      "Requirement already satisfied: pywinpty>=2.0.1 in c:\\users\\antro\\miniforge3\\envs\\inflearn-langgraph-lecture\\lib\\site-packages (from jupyter-server<3,>=2.4.0->jupyterlab->jupyter) (2.0.14)\n",
      "Requirement already satisfied: send2trash>=1.8.2 in c:\\users\\antro\\miniforge3\\envs\\inflearn-langgraph-lecture\\lib\\site-packages (from jupyter-server<3,>=2.4.0->jupyterlab->jupyter) (1.8.3)\n",
      "Requirement already satisfied: terminado>=0.8.3 in c:\\users\\antro\\miniforge3\\envs\\inflearn-langgraph-lecture\\lib\\site-packages (from jupyter-server<3,>=2.4.0->jupyterlab->jupyter) (0.18.1)\n",
      "Requirement already satisfied: websocket-client>=1.7 in c:\\users\\antro\\miniforge3\\envs\\inflearn-langgraph-lecture\\lib\\site-packages (from jupyter-server<3,>=2.4.0->jupyterlab->jupyter) (1.8.0)\n",
      "Requirement already satisfied: babel>=2.10 in c:\\users\\antro\\miniforge3\\envs\\inflearn-langgraph-lecture\\lib\\site-packages (from jupyterlab-server<3,>=2.27.1->jupyterlab->jupyter) (2.16.0)\n",
      "Requirement already satisfied: json5>=0.9.0 in c:\\users\\antro\\miniforge3\\envs\\inflearn-langgraph-lecture\\lib\\site-packages (from jupyterlab-server<3,>=2.27.1->jupyterlab->jupyter) (0.10.0)\n",
      "Requirement already satisfied: jsonschema>=4.18.0 in c:\\users\\antro\\miniforge3\\envs\\inflearn-langgraph-lecture\\lib\\site-packages (from jupyterlab-server<3,>=2.27.1->jupyterlab->jupyter) (4.23.0)\n",
      "Requirement already satisfied: requests>=2.31 in c:\\users\\antro\\miniforge3\\envs\\inflearn-langgraph-lecture\\lib\\site-packages (from jupyterlab-server<3,>=2.27.1->jupyterlab->jupyter) (2.32.3)\n",
      "Requirement already satisfied: fastjsonschema>=2.15 in c:\\users\\antro\\miniforge3\\envs\\inflearn-langgraph-lecture\\lib\\site-packages (from nbformat>=5.7->nbconvert->jupyter) (2.21.1)\n",
      "Requirement already satisfied: wcwidth in c:\\users\\antro\\miniforge3\\envs\\inflearn-langgraph-lecture\\lib\\site-packages (from prompt_toolkit<3.1.0,>=3.0.41->ipython>=6.1.0->ipywidgets) (0.2.13)\n",
      "Requirement already satisfied: soupsieve>1.2 in c:\\users\\antro\\miniforge3\\envs\\inflearn-langgraph-lecture\\lib\\site-packages (from beautifulsoup4->nbconvert->jupyter) (2.6)\n",
      "Requirement already satisfied: executing>=1.2.0 in c:\\users\\antro\\miniforge3\\envs\\inflearn-langgraph-lecture\\lib\\site-packages (from stack_data->ipython>=6.1.0->ipywidgets) (2.1.0)\n",
      "Requirement already satisfied: asttokens>=2.1.0 in c:\\users\\antro\\miniforge3\\envs\\inflearn-langgraph-lecture\\lib\\site-packages (from stack_data->ipython>=6.1.0->ipywidgets) (3.0.0)\n",
      "Requirement already satisfied: pure_eval in c:\\users\\antro\\miniforge3\\envs\\inflearn-langgraph-lecture\\lib\\site-packages (from stack_data->ipython>=6.1.0->ipywidgets) (0.2.3)\n",
      "Requirement already satisfied: typing_extensions>=4.5 in c:\\users\\antro\\miniforge3\\envs\\inflearn-langgraph-lecture\\lib\\site-packages (from anyio->httpx>=0.25.0->jupyterlab->jupyter) (4.12.2)\n",
      "Requirement already satisfied: argon2-cffi-bindings in c:\\users\\antro\\miniforge3\\envs\\inflearn-langgraph-lecture\\lib\\site-packages (from argon2-cffi>=21.1->jupyter-server<3,>=2.4.0->jupyterlab->jupyter) (21.2.0)\n",
      "Requirement already satisfied: attrs>=22.2.0 in c:\\users\\antro\\miniforge3\\envs\\inflearn-langgraph-lecture\\lib\\site-packages (from jsonschema>=4.18.0->jupyterlab-server<3,>=2.27.1->jupyterlab->jupyter) (25.1.0)\n",
      "Requirement already satisfied: jsonschema-specifications>=2023.03.6 in c:\\users\\antro\\miniforge3\\envs\\inflearn-langgraph-lecture\\lib\\site-packages (from jsonschema>=4.18.0->jupyterlab-server<3,>=2.27.1->jupyterlab->jupyter) (2024.10.1)\n",
      "Requirement already satisfied: referencing>=0.28.4 in c:\\users\\antro\\miniforge3\\envs\\inflearn-langgraph-lecture\\lib\\site-packages (from jsonschema>=4.18.0->jupyterlab-server<3,>=2.27.1->jupyterlab->jupyter) (0.36.2)\n",
      "Requirement already satisfied: rpds-py>=0.7.1 in c:\\users\\antro\\miniforge3\\envs\\inflearn-langgraph-lecture\\lib\\site-packages (from jsonschema>=4.18.0->jupyterlab-server<3,>=2.27.1->jupyterlab->jupyter) (0.22.3)\n",
      "Requirement already satisfied: python-json-logger>=2.0.4 in c:\\users\\antro\\miniforge3\\envs\\inflearn-langgraph-lecture\\lib\\site-packages (from jupyter-events>=0.11.0->jupyter-server<3,>=2.4.0->jupyterlab->jupyter) (3.2.1)\n",
      "Requirement already satisfied: pyyaml>=5.3 in c:\\users\\antro\\miniforge3\\envs\\inflearn-langgraph-lecture\\lib\\site-packages (from jupyter-events>=0.11.0->jupyter-server<3,>=2.4.0->jupyterlab->jupyter) (6.0.2)\n",
      "Requirement already satisfied: rfc3339-validator in c:\\users\\antro\\miniforge3\\envs\\inflearn-langgraph-lecture\\lib\\site-packages (from jupyter-events>=0.11.0->jupyter-server<3,>=2.4.0->jupyterlab->jupyter) (0.1.4)\n",
      "Requirement already satisfied: rfc3986-validator>=0.1.1 in c:\\users\\antro\\miniforge3\\envs\\inflearn-langgraph-lecture\\lib\\site-packages (from jupyter-events>=0.11.0->jupyter-server<3,>=2.4.0->jupyterlab->jupyter) (0.1.1)\n",
      "Requirement already satisfied: six>=1.5 in c:\\users\\antro\\miniforge3\\envs\\inflearn-langgraph-lecture\\lib\\site-packages (from python-dateutil>=2.8.2->jupyter-client>=6.1.12->ipykernel->jupyter) (1.17.0)\n",
      "Requirement already satisfied: charset-normalizer<4,>=2 in c:\\users\\antro\\miniforge3\\envs\\inflearn-langgraph-lecture\\lib\\site-packages (from requests>=2.31->jupyterlab-server<3,>=2.27.1->jupyterlab->jupyter) (3.4.1)\n",
      "Requirement already satisfied: urllib3<3,>=1.21.1 in c:\\users\\antro\\miniforge3\\envs\\inflearn-langgraph-lecture\\lib\\site-packages (from requests>=2.31->jupyterlab-server<3,>=2.27.1->jupyterlab->jupyter) (2.3.0)\n",
      "Requirement already satisfied: fqdn in c:\\users\\antro\\miniforge3\\envs\\inflearn-langgraph-lecture\\lib\\site-packages (from jsonschema[format-nongpl]>=4.18.0->jupyter-events>=0.11.0->jupyter-server<3,>=2.4.0->jupyterlab->jupyter) (1.5.1)\n",
      "Requirement already satisfied: isoduration in c:\\users\\antro\\miniforge3\\envs\\inflearn-langgraph-lecture\\lib\\site-packages (from jsonschema[format-nongpl]>=4.18.0->jupyter-events>=0.11.0->jupyter-server<3,>=2.4.0->jupyterlab->jupyter) (20.11.0)\n",
      "Requirement already satisfied: jsonpointer>1.13 in c:\\users\\antro\\miniforge3\\envs\\inflearn-langgraph-lecture\\lib\\site-packages (from jsonschema[format-nongpl]>=4.18.0->jupyter-events>=0.11.0->jupyter-server<3,>=2.4.0->jupyterlab->jupyter) (3.0.0)\n",
      "Requirement already satisfied: uri-template in c:\\users\\antro\\miniforge3\\envs\\inflearn-langgraph-lecture\\lib\\site-packages (from jsonschema[format-nongpl]>=4.18.0->jupyter-events>=0.11.0->jupyter-server<3,>=2.4.0->jupyterlab->jupyter) (1.3.0)\n",
      "Requirement already satisfied: webcolors>=24.6.0 in c:\\users\\antro\\miniforge3\\envs\\inflearn-langgraph-lecture\\lib\\site-packages (from jsonschema[format-nongpl]>=4.18.0->jupyter-events>=0.11.0->jupyter-server<3,>=2.4.0->jupyterlab->jupyter) (24.11.1)\n",
      "Requirement already satisfied: cffi>=1.0.1 in c:\\users\\antro\\miniforge3\\envs\\inflearn-langgraph-lecture\\lib\\site-packages (from argon2-cffi-bindings->argon2-cffi>=21.1->jupyter-server<3,>=2.4.0->jupyterlab->jupyter) (1.17.1)\n",
      "Requirement already satisfied: pycparser in c:\\users\\antro\\miniforge3\\envs\\inflearn-langgraph-lecture\\lib\\site-packages (from cffi>=1.0.1->argon2-cffi-bindings->argon2-cffi>=21.1->jupyter-server<3,>=2.4.0->jupyterlab->jupyter) (2.22)\n",
      "Requirement already satisfied: arrow>=0.15.0 in c:\\users\\antro\\miniforge3\\envs\\inflearn-langgraph-lecture\\lib\\site-packages (from isoduration->jsonschema[format-nongpl]>=4.18.0->jupyter-events>=0.11.0->jupyter-server<3,>=2.4.0->jupyterlab->jupyter) (1.3.0)\n",
      "Requirement already satisfied: types-python-dateutil>=2.8.10 in c:\\users\\antro\\miniforge3\\envs\\inflearn-langgraph-lecture\\lib\\site-packages (from arrow>=0.15.0->isoduration->jsonschema[format-nongpl]>=4.18.0->jupyter-events>=0.11.0->jupyter-server<3,>=2.4.0->jupyterlab->jupyter) (2.9.0.20241206)\n",
      "Note: you may need to restart the kernel to use updated packages.\n"
     ]
    }
   ],
   "source": [
    "%pip install --upgrade jupyter ipywidgets\n"
   ]
  },
  {
   "cell_type": "code",
   "execution_count": 2,
   "metadata": {},
   "outputs": [
    {
     "name": "stdout",
     "output_type": "stream",
     "text": [
      "Requirement already satisfied: sentence-transformers in c:\\users\\antro\\miniforge3\\envs\\inflearn-langgraph-lecture\\lib\\site-packages (3.4.1)\n",
      "Requirement already satisfied: transformers<5.0.0,>=4.41.0 in c:\\users\\antro\\miniforge3\\envs\\inflearn-langgraph-lecture\\lib\\site-packages (from sentence-transformers) (4.48.2)\n",
      "Requirement already satisfied: tqdm in c:\\users\\antro\\miniforge3\\envs\\inflearn-langgraph-lecture\\lib\\site-packages (from sentence-transformers) (4.67.1)\n",
      "Requirement already satisfied: torch>=1.11.0 in c:\\users\\antro\\miniforge3\\envs\\inflearn-langgraph-lecture\\lib\\site-packages (from sentence-transformers) (2.6.0)\n",
      "Requirement already satisfied: scikit-learn in c:\\users\\antro\\miniforge3\\envs\\inflearn-langgraph-lecture\\lib\\site-packages (from sentence-transformers) (1.6.1)\n",
      "Requirement already satisfied: scipy in c:\\users\\antro\\miniforge3\\envs\\inflearn-langgraph-lecture\\lib\\site-packages (from sentence-transformers) (1.15.1)\n",
      "Requirement already satisfied: huggingface-hub>=0.20.0 in c:\\users\\antro\\miniforge3\\envs\\inflearn-langgraph-lecture\\lib\\site-packages (from sentence-transformers) (0.28.1)\n",
      "Requirement already satisfied: Pillow in c:\\users\\antro\\miniforge3\\envs\\inflearn-langgraph-lecture\\lib\\site-packages (from sentence-transformers) (11.1.0)\n",
      "Requirement already satisfied: filelock in c:\\users\\antro\\miniforge3\\envs\\inflearn-langgraph-lecture\\lib\\site-packages (from huggingface-hub>=0.20.0->sentence-transformers) (3.17.0)\n",
      "Requirement already satisfied: fsspec>=2023.5.0 in c:\\users\\antro\\miniforge3\\envs\\inflearn-langgraph-lecture\\lib\\site-packages (from huggingface-hub>=0.20.0->sentence-transformers) (2024.12.0)\n",
      "Requirement already satisfied: packaging>=20.9 in c:\\users\\antro\\miniforge3\\envs\\inflearn-langgraph-lecture\\lib\\site-packages (from huggingface-hub>=0.20.0->sentence-transformers) (24.2)\n",
      "Requirement already satisfied: pyyaml>=5.1 in c:\\users\\antro\\miniforge3\\envs\\inflearn-langgraph-lecture\\lib\\site-packages (from huggingface-hub>=0.20.0->sentence-transformers) (6.0.2)\n",
      "Requirement already satisfied: requests in c:\\users\\antro\\miniforge3\\envs\\inflearn-langgraph-lecture\\lib\\site-packages (from huggingface-hub>=0.20.0->sentence-transformers) (2.32.3)\n",
      "Requirement already satisfied: typing-extensions>=3.7.4.3 in c:\\users\\antro\\miniforge3\\envs\\inflearn-langgraph-lecture\\lib\\site-packages (from huggingface-hub>=0.20.0->sentence-transformers) (4.12.2)\n",
      "Requirement already satisfied: networkx in c:\\users\\antro\\miniforge3\\envs\\inflearn-langgraph-lecture\\lib\\site-packages (from torch>=1.11.0->sentence-transformers) (3.4.2)\n",
      "Requirement already satisfied: jinja2 in c:\\users\\antro\\miniforge3\\envs\\inflearn-langgraph-lecture\\lib\\site-packages (from torch>=1.11.0->sentence-transformers) (3.1.5)\n",
      "Requirement already satisfied: setuptools in c:\\users\\antro\\miniforge3\\envs\\inflearn-langgraph-lecture\\lib\\site-packages (from torch>=1.11.0->sentence-transformers) (75.8.0)\n",
      "Requirement already satisfied: sympy==1.13.1 in c:\\users\\antro\\miniforge3\\envs\\inflearn-langgraph-lecture\\lib\\site-packages (from torch>=1.11.0->sentence-transformers) (1.13.1)\n",
      "Requirement already satisfied: mpmath<1.4,>=1.1.0 in c:\\users\\antro\\miniforge3\\envs\\inflearn-langgraph-lecture\\lib\\site-packages (from sympy==1.13.1->torch>=1.11.0->sentence-transformers) (1.3.0)\n",
      "Requirement already satisfied: colorama in c:\\users\\antro\\miniforge3\\envs\\inflearn-langgraph-lecture\\lib\\site-packages (from tqdm->sentence-transformers) (0.4.6)\n",
      "Requirement already satisfied: numpy>=1.17 in c:\\users\\antro\\miniforge3\\envs\\inflearn-langgraph-lecture\\lib\\site-packages (from transformers<5.0.0,>=4.41.0->sentence-transformers) (1.26.4)\n",
      "Requirement already satisfied: regex!=2019.12.17 in c:\\users\\antro\\miniforge3\\envs\\inflearn-langgraph-lecture\\lib\\site-packages (from transformers<5.0.0,>=4.41.0->sentence-transformers) (2024.11.6)\n",
      "Requirement already satisfied: tokenizers<0.22,>=0.21 in c:\\users\\antro\\miniforge3\\envs\\inflearn-langgraph-lecture\\lib\\site-packages (from transformers<5.0.0,>=4.41.0->sentence-transformers) (0.21.0)\n",
      "Requirement already satisfied: safetensors>=0.4.1 in c:\\users\\antro\\miniforge3\\envs\\inflearn-langgraph-lecture\\lib\\site-packages (from transformers<5.0.0,>=4.41.0->sentence-transformers) (0.5.2)\n",
      "Requirement already satisfied: joblib>=1.2.0 in c:\\users\\antro\\miniforge3\\envs\\inflearn-langgraph-lecture\\lib\\site-packages (from scikit-learn->sentence-transformers) (1.4.2)\n",
      "Requirement already satisfied: threadpoolctl>=3.1.0 in c:\\users\\antro\\miniforge3\\envs\\inflearn-langgraph-lecture\\lib\\site-packages (from scikit-learn->sentence-transformers) (3.5.0)\n",
      "Requirement already satisfied: MarkupSafe>=2.0 in c:\\users\\antro\\miniforge3\\envs\\inflearn-langgraph-lecture\\lib\\site-packages (from jinja2->torch>=1.11.0->sentence-transformers) (3.0.2)\n",
      "Requirement already satisfied: charset-normalizer<4,>=2 in c:\\users\\antro\\miniforge3\\envs\\inflearn-langgraph-lecture\\lib\\site-packages (from requests->huggingface-hub>=0.20.0->sentence-transformers) (3.4.1)\n",
      "Requirement already satisfied: idna<4,>=2.5 in c:\\users\\antro\\miniforge3\\envs\\inflearn-langgraph-lecture\\lib\\site-packages (from requests->huggingface-hub>=0.20.0->sentence-transformers) (3.10)\n",
      "Requirement already satisfied: urllib3<3,>=1.21.1 in c:\\users\\antro\\miniforge3\\envs\\inflearn-langgraph-lecture\\lib\\site-packages (from requests->huggingface-hub>=0.20.0->sentence-transformers) (2.3.0)\n",
      "Requirement already satisfied: certifi>=2017.4.17 in c:\\users\\antro\\miniforge3\\envs\\inflearn-langgraph-lecture\\lib\\site-packages (from requests->huggingface-hub>=0.20.0->sentence-transformers) (2025.1.31)\n",
      "Note: you may need to restart the kernel to use updated packages.\n"
     ]
    }
   ],
   "source": [
    "%pip install sentence-transformers\n"
   ]
  },
  {
   "cell_type": "code",
   "execution_count": 3,
   "metadata": {},
   "outputs": [],
   "source": [
    "\n",
    "# 검증을 한번 하고 문서가 사용자의 질문과 관련이 있으면 genenrate를 하고 그렇지 않으면 rewrite를 통해서 사용자의 질문을 문맥에 맡게 수정한 다음에 문서를 다시 가져오는 절차를 짚어보도록 하겠다.\n",
    "\n",
    "# 4개의 노드가 필요하다.\n",
    "#   1. ritrieve\n",
    "#   2. generate\n",
    "#   3. rewrite\n",
    "#   4. 문서 검증 노드\n",
    "# ![image.png](attachment:image.png)\n",
    "\n",
    "# 먼저 생성 해 두었던 chromaDB에 접근하도록 한다.\n",
    "# 생성할 때는 from_documents 메소드를 사용 했었다. 이거는 chromaDB 가 존재 하지 않는 경우에 사용 하는 방법이다.\n",
    "# 이미 생성한 chromaDB에 접근하기 위해서는 chroma 클래스를 바로 써야 한다.\n",
    "# 벡터 생성할 때 쓴 코드를 그대로 가져온다.\n",
    "\n",
    "\n",
    "from langchain_chroma import Chroma\n",
    "# from sentence_transformers import SentenceTransformer\n",
    "from langchain_huggingface import HuggingFaceEmbeddings\n",
    "\n",
    "\n",
    "# KURE-v1 임베딩 설정\n",
    "# ✅ LangChain에서 사용할 수 있는 임베딩 모델 설정\n",
    "model_name = \"nlpai-lab/KURE-v1\"\n",
    "model_kwargs = {'device': 'cpu'}\n",
    "encode_kwargs = {'normalize_embeddings': True}\n",
    "\n",
    "embeddings_function = HuggingFaceEmbeddings(\n",
    "    model_name=model_name,\n",
    "    model_kwargs=model_kwargs,\n",
    "    encode_kwargs=encode_kwargs\n",
    ")\n",
    "\n",
    "# ✅ 기존 벡터 스토어를 불러오기\n",
    "vector_store = Chroma(\n",
    "    embedding_function=embeddings_function,  # ✅ HuggingFaceEmbeddings 사용\n",
    "    collection_name=\"income_tax_collection\",\n",
    "    persist_directory=\"./income_tax_collection\"  # 저장된 벡터 스토어 경로\n",
    ")\n",
    "\n",
    "# ✅ Retrieval 객체 생성\n",
    "retriever = vector_store.as_retriever(search_kwargs={\"k\": 3})\n"
   ]
  },
  {
   "cell_type": "code",
   "execution_count": 4,
   "metadata": {},
   "outputs": [],
   "source": [
    "# 이제 state를 선언해서 우리가 원하는 agent를 만들어 보도록 하겠다.\n",
    "# state는 기존의 코드와 똑같이 선언해 주면 된다.\n",
    "\n",
    "# state를 만들고 시작해보자.\n",
    "\n",
    "from typing_extensions import List, TypedDict\n",
    "from langchain_core.documents import Document\n",
    "from langgraph.graph import StateGraph # graph_builder까지 선언해 주도록 하겠다.\n",
    "\n",
    "class AgentState(TypedDict):\n",
    "    query: str # 질문\n",
    "    context: List[Document] # 컨텍스트(답변할 때 참고할 문서들: langchain의 Document 타입) - 경로는 3.1의 from langchain_core.documents import Document\n",
    "    answer: str # 답변\n",
    "\n",
    "\n",
    "# graph_builder 선언.\n",
    "graph_builder = StateGraph(AgentState)\n",
    "\n",
    "# 이제 노드를 추가해 보도록 하겠다.\n",
    "\n"
   ]
  },
  {
   "cell_type": "code",
   "execution_count": 5,
   "metadata": {},
   "outputs": [],
   "source": [
    "# retrieve 노드 추가\n",
    "\n",
    "def retrieve(state: AgentState) -> AgentState:\n",
    "    query = state['query'] # 사용자의 질문을 받아온 다음\n",
    "    docs = retriever.invoke(query) # 기반으로 리트리버에 대해서 검색을 하고\n",
    "    return {'context': docs} # state의 컨텍스트에 넣어준다.\n",
    "\n",
    "\n"
   ]
  },
  {
   "cell_type": "code",
   "execution_count": 6,
   "metadata": {},
   "outputs": [],
   "source": [
    "# generate 노드 추가를 위해 llm과 프롬프트를 선언해 주도록 하겠다.\n",
    "\n",
    "from langchain_openai import ChatOpenAI\n",
    "\n",
    "llm = ChatOpenAI(model='gpt-4o-mini')"
   ]
  },
  {
   "cell_type": "code",
   "execution_count": 7,
   "metadata": {},
   "outputs": [],
   "source": [
    "# 그런데 이번에는 generate에 쓸 prompt도 있어야 하고, question을 다시 쓸 때 사용자의  - 질문을 수정할 때 쓸 prompt도 있어야 한다. 그리고 문서의 관련성을 판단할 때 쓸 prompt도 있어야 한다.\n",
    "\n",
    "#  - 따라서 prompt라고 변수를 하나만 정하면 중복이 될 수 있다.\n",
    "#  - 공통으로 쓸 llm만 미리 선언하고 \n",
    "#  - 프롬프트는 각각 선언해 주도록 하겠다.\n",
    "\n",
    "\n",
    "# context 랑 query를 잘 받아와서, LLM을 invoke 하지 않고, 선언한 프롬프트를 활용해야한다.\n",
    "# langchain의 LCEL 문법: 파이프 활용 해서 연결하는 것. 기반으로 체인을 만들어 준다.\n",
    "\n",
    "from langchain import hub\n",
    "\n",
    "# RAG 프롬프트를 가져옵니다.\n",
    "generate_prompt = hub.pull(\"rlm/rag-prompt\")\n",
    "\n",
    "def generate(state: AgentState) -> AgentState:\n",
    "    \"\"\"\n",
    "    주어진 state를 기반으로 RAG 체인을 사용하여 응답을 생성합니다.\n",
    "\n",
    "    Args:\n",
    "        state (AgentState): 사용자의 질문과 문맥을 포함한 에이전트의 현재 state.\n",
    "\n",
    "    Returns:\n",
    "        AgentState: 생성된 응답을 포함하는 state를 반환합니다.\n",
    "    \"\"\"\n",
    "    context = state['context']  # state에서 문맥을 추출합니다.\n",
    "    query = state['query']      # state에서 사용자의 질문을 추출합니다.\n",
    "    \n",
    "    # RAG 체인을 구성합니다.\n",
    "    rag_chain = generate_prompt | llm\n",
    "    \n",
    "    # 질문과 문맥을 사용하여 응답을 생성합니다.\n",
    "    response = rag_chain.invoke({'question': query, 'context': context})\n",
    "    \n",
    "    return {'answer': response}  # 생성된 응답을 포함하는 state를 반환합니다.\n",
    "\n"
   ]
  },
  {
   "cell_type": "code",
   "execution_count": 8,
   "metadata": {},
   "outputs": [],
   "source": [
    "# 이제 문서의 관련성을 측정할 노드를 만들어 보겠다.\n",
    "# langsmith에서 rag-document-relevance라는 프롬프트를 제공해 준다.\n",
    "# 사용자의 질문과 문서를 받아서 관련성을 측정해서 score를 반환해 준다.\n",
    "# 이 score가 1이면 관련성이 높고, 0이면 관련성이 낮다.\n",
    "\n",
    "# set the LANGSMITH_API_KEY environment variable (create key in settings)\n",
    "from langchain import hub\n",
    "from typing import Literal\n",
    "doc_relevance_prompt = hub.pull('langchain-ai/rag-document-relevance')\n",
    "\n",
    "def check_doc_relevance(state: AgentState) -> Literal['generate', 'rewrite']:\n",
    "    query = state['query']\n",
    "    context = state['context']\n",
    "    print(f'context == {context}')\n",
    "    doc_relevance_chain = doc_relevance_prompt | llm\n",
    "    response = doc_relevance_chain.invoke({'question': query, 'documents': context}) # 수정: context를 그대로 전달\n",
    "    print(f'doc relevance response: {response}')\n",
    "    \n",
    "    # state를 설정하는 것이 아니라, 다음에 어디로 갈지 결정. \n",
    "    # 따라서 state를 return하면 안되고, score가  1이면 generate로 가고, 아니면 rewrite로 가도록 하겠다.\n",
    "    if response['Score'] == 1:\n",
    "        return 'generate'\n",
    "    \n",
    "    return 'rewrite'\n",
    "\n",
    "# def check_doc_relevance(state: AgentState) -> Literal['generate', 'rewrite']:\n",
    "#     query = state['query']\n",
    "#     context = state['context']\n",
    "#     print(f'context == {context}')\n",
    "#     doc_relevance_chain = doc_relevance_prompt | llm\n",
    "#     response = doc_relevance_chain.invoke({'question': query, 'documents': context})\n",
    "#     print(f'doc relevance response: {response}')\n",
    "    \n",
    "#     # 수정된 부분: 리스트의 첫 번째 요소에서 'args' 딕셔너리의 'Score' 값을 가져옴\n",
    "#     score = response[0]['args']['Score']\n",
    "    \n",
    "    \n",
    "#     if score == 1:\n",
    "#         return 'generate'\n",
    "#     return 'rewrite'\n",
    "\n",
    "# def check_doc_relevance(state: AgentState) -> Literal['generate', 'rewrite']:\n",
    "#     query = state['query']\n",
    "#     context = state['context']\n",
    "#     print(f'context == {context}')\n",
    "#     doc_relevance_chain = doc_relevance_prompt | llm\n",
    "#     response = doc_relevance_chain.invoke({'question': query, 'documents': context})\n",
    "#     print(f'doc relevance response: {response}')\n",
    "\n",
    "#     # 응답이 사전인지 확인하고 점수 추출\n",
    "#     if isinstance(response, dict):\n",
    "#         score = response.get('Score', 0)  # get을 사용하여 키가 없을 경우 기본값 0 할당\n",
    "#     elif isinstance(response, int):  # 정수 응답 처리 추가\n",
    "#         score = response\n",
    "#     else:\n",
    "#         score = 0  # 예외적인 응답 형식일 경우 기본값 0 할당\n",
    "\n",
    "#     if score == 1:\n",
    "#         return 'generate'\n",
    "\n",
    "#     return 'rewrite'\n",
    "\n"
   ]
  },
  {
   "cell_type": "code",
   "execution_count": 9,
   "metadata": {},
   "outputs": [],
   "source": [
    "# rewrite 노드 추가\n",
    "# rewrite 는 검색을 용이하게 해 주기 위한것, 검색이 왜 안되었는지를 따져봐야 한다.\n",
    "# 검색이 안되었던 이유는 사용자의 질문이 문서와 맞지 않았기 때문이다.\n",
    "# 따라서 사용자의 질문을 문서와 맞게 수정해 주는 것이 필요하다.\n",
    "# 이를 위해서 사용자의 질문을 수정해 주는 프롬프트를 제공해 준다.\n",
    "\n",
    "# 검색이 잘 되도록 entity를 맞춤 설정해 주는 것이 필요하다.\n",
    "\n",
    "# langchain_core.prompts 에서 PromptTemplate를 이용해 직접 작성한다다.\n",
    "from langchain_core.prompts import PromptTemplate\n",
    "\n",
    "# output type을 str로만 나오게 한다 : 왜냐하면 state를 보면 query가 str이기 때문이다.\n",
    "from langchain_core.output_parsers import StrOutputParser \n",
    "\n",
    "\n",
    "dictionary = ['사람과 관련된 표현 -> 거주자']\n",
    "\n",
    "rewrite_prompt = PromptTemplate.from_template(f\"\"\"\n",
    "사용자의 질문을 보고, 우리의 사전을 참고해서 사용자의 질문을 변경해주세요\n",
    "사전: {dictionary}\n",
    "질문: {{query}}\n",
    "\"\"\")\n",
    "\n",
    "def rewrite(state: AgentState):\n",
    "    query = state['query']\n",
    "    rewrite_chain = rewrite_prompt | llm | StrOutputParser()\n",
    "\n",
    "    response = rewrite_chain.invoke({'query': query}) #response 가 BaseMessage 이므로 putput type을 str로 바꿔줘야 한다.\n",
    "    return {'query': response}\n"
   ]
  },
  {
   "cell_type": "code",
   "execution_count": 10,
   "metadata": {},
   "outputs": [
    {
     "data": {
      "text/plain": [
       "<langgraph.graph.state.StateGraph at 0x2240e7e2f60>"
      ]
     },
     "execution_count": 10,
     "metadata": {},
     "output_type": "execute_result"
    }
   ],
   "source": [
    "# 필요한 노드들을 다 만들었다.\n",
    "# 이제 노드들을 등록하고 엣지를 추가해 주도록 하겠다.\n",
    "\n",
    "graph_builder.add_node('retrieve', retrieve)\n",
    "# graph_builder.add_node('check_doc_relevance', check_doc_relevance)\n",
    "graph_builder.add_node('generate', generate)\n",
    "graph_builder.add_node('rewrite', rewrite)"
   ]
  },
  {
   "cell_type": "code",
   "execution_count": 11,
   "metadata": {},
   "outputs": [
    {
     "data": {
      "text/plain": [
       "<langgraph.graph.state.StateGraph at 0x2240e7e2f60>"
      ]
     },
     "execution_count": 11,
     "metadata": {},
     "output_type": "execute_result"
    }
   ],
   "source": [
    "# 엣지 추가\n",
    "\n",
    "from langgraph.graph import START, END\n",
    "\n",
    "graph_builder.add_edge(START, \"retrieve\")\n",
    "graph_builder.add_conditional_edges(\"retrieve\", check_doc_relevance)\n",
    "graph_builder.add_edge(\"rewrite\", \"retrieve\")\n",
    "graph_builder.add_edge(\"generate\", END)"
   ]
  },
  {
   "cell_type": "code",
   "execution_count": 12,
   "metadata": {},
   "outputs": [],
   "source": [
    "graph = graph_builder.compile() "
   ]
  },
  {
   "cell_type": "code",
   "execution_count": 13,
   "metadata": {},
   "outputs": [
    {
     "data": {
      "image/png": "[encoded data removed]",
      "text/plain": [
       "<IPython.core.display.Image object>"
      ]
     },
     "metadata": {},
     "output_type": "display_data"
    }
   ],
   "source": [
    "from IPython.display import Image, display\n",
    "\n",
    "display(Image(graph.get_graph().draw_mermaid_png()))"
   ]
  },
  {
   "cell_type": "code",
   "execution_count": 14,
   "metadata": {},
   "outputs": [
    {
     "name": "stdout",
     "output_type": "stream",
     "text": [
      "initial_state == {'query': '연봉 5천만원 세금'}\n",
      "context == [Document(id='10ef4b06-68a6-498f-959c-0f23f4e64610', metadata={'source': './documents/income_tax.txt'}, page_content='1. 근속연수에 따라 정한 다음의 금액\\n근속연수 | 공제액\\n--- | ---\\n5년 이하 | 100만원 공제소득\\n5년 초과 10년 이하 | 500만원+200만원×(근속연수−5)\\n10년 초과 20년 이하 | 1천500만원+250만원×(근속연수−10)\\n법제처 | 31 | 국가법령정보센터'), Document(id='cfff6763-b959-4bc3-8dbe-38a218a8c1e8', metadata={'source': './documents/income_tax.txt'}, page_content='5년 이하: 30만원 → 납입연수\\n5년 초과 10년 이하: 150만원 + 50만원 × (납입연수 - 5년)\\n10년 초과 20년 이하: 400만원 + 80만원 × (납입연수 - 10년)\\n20년 초과: 1,200만원 + 120만원 × (납입연수 - 20년)\\n\\n② 직장근로자 초과관세환급금을 분배하여 지급받는 경우 세액의 계산 방법 등 필요한 사항은 대통령령으로 정한다. \\n<대통령 2014. 12. 23.>\\n<전문개정 2009. 12. 31.>\\n제64조(부동산매매업자에 대한 세액 계산의 특례)\\n1) 대통령령으로 정하는 부동산매매업(이하 “부동산매매업”이라 한다)을 영위하는 거주자가 이하 “부동산매매업자”라 한다)로서 종합소득세법에 제104조제1항제1호(본항을 포함한다) 및 제103조 또는 같은 조 제7항 각 호의 어느 하나에 해당하는 자산의 매매자익(이하 “주택등매매차익”이라 한다)이 있는 자의 종합소득 산출세액은 다음 각 호의 세액 중 많은 것으로 한다. \\n<개정 2014. 12. 23., 2017. 12. 19., 2020. 12. 29.>\\n1. 종합소득 산출세액\\n\\n다음 각 목에 따른 세액의 합계액\\n  가. 주택등매매차익에 따른 세율을 적용하여 산출한 세액의 합계액\\n  나. 종합소득세법 제55조에 따라 주택등매매차익에 대한 개별세액을 공제한 금액을 과세표준으로 하고 이에 제55조에 따른 세율을 적용하여 산출세액'), Document(id='be75bc8b-e431-4b6a-b3ec-22bcc177c567', metadata={'source': './documents/income_tax.txt'}, page_content='130만원 이하   \\n산출세액의 10분의 55 \\n130만원 초과   \\n71천원과 (130만원을 초과하는 금액의 10분의 30)  \\n\\n② 제1항에 대하여 공제받는 다음 각 호의 계산에 따른 금액을 초과하는 경우에 초과하는 금액은 없는 것으로 한다. <신설 2014. 1. 1., 2015. 5. 13., 2022. 12. 31.>\\n1. 총급여액이 3천만원 이하인 경우: 74천원 = (총급여액 - 300만원) × 8/1000. 단, 위 금액은 적은 경우 6천원으로 한다.\\n2. 총급여액이 3천만원 초과 7천만원 이하인 경우: 66천원 = (총급여액 - 7천만원) × 1/2. 단, 위 금액이 50만원보다 적은 경우에는 50만원으로 한다.\\n3. 총급여액이 1억원 미만일 경우에는 경우: 50만원 = (총급여액 - 1억원) × 1/2. 단, 위 금액이 20만원보다 적은 경우에는 20만원으로 한다.\\n4. 일금공로자의 근로소득에 대해 제134조제3항에 대한 원천징수를 하는 경우에는 해도 근로소득에 대한 산출세액의 100세 50에 해당하는 금액은 그 산출세액에 적용된다. <개정 2014. 1. 1.>\\n[전문개정 2021. 1.]  \\n제59조2의2(자산세예고제)\\n① 종합소득에 있는 거주자이기 근로제대상자에 해당하는 자녀(입장 및 위탁아동을 포함하며, 이하 이 조에서 \"공제대상자\"라 한다) 및 소득세법 제57조 이상의 사례에 대해서는 다음 각 호의 구분에 따른 금액을 종합소득세법에 공제받는다. <개정 2015. 5. 13., 2017. 12. 31., 2018. 12. 19., 2019. 12. 31., 2022. 12. 31., 2023. 12. 31.>  \\n\\n1명인 경우: 연 15만원\\n2명인 경우: 연 35만원\\n3명 이상인 경우: 연 35만원과 2명을 초과하는 1명당 연 30만원을 합한 금액\\n③ 삭제: 2017. 12. 19.\\n④ 해당 과세기간에 출산하거나 입양 신고한 경우 각 호의 구분에 따른 금액을 공통적으로 환산특수산출세액에 세액해당. <신설 2015. 5. 13., 2016. 12. 20.>\\n출산하거나 입양 신고한 공제대상자녀가 첫째인 경우: 연 30만원\\n출산하거나 입양 신고한 공제대상자녀가 둘째인 경우: 연 50만원\\n출산하거나 입양 신고한 공제대상자녀가 셋째 이상인 경우: 연 70만원\\n④ 제1항 및 제3항에 따른 공제는 \"자녀세액공제\"라 한다. <신설 2015. 5. 13., 2017. 12. 19.>\\n[본조신설 2014. 1. 1.]\\n[중전 제59조의2는 제59조의3으로 이동 <2014. 1. 1.>]')]\n",
      "doc relevance response: {'Score': 1, 'Explanation': \"The FACTS provided contain information related to income tax calculations, deductions based on years of service, and tax amounts depending on salary levels, all of which are relevant to understanding the tax implications of an income of 50 million won (5천만원). Keywords like '근속연수' (length of service), '공제액' (deduction amount), and various thresholds based on income are directly related to the question about tax on a specific salary amount. Although some specific details might be more complex and could seem less related, the overarching themes of income tax, deductions, and calculations ensure that at least some of the provided facts are relevant.\"}\n"
     ]
    },
    {
     "data": {
      "text/plain": [
       "{'query': '연봉 5천만원 세금',\n",
       " 'context': [Document(id='10ef4b06-68a6-498f-959c-0f23f4e64610', metadata={'source': './documents/income_tax.txt'}, page_content='1. 근속연수에 따라 정한 다음의 금액\\n근속연수 | 공제액\\n--- | ---\\n5년 이하 | 100만원 공제소득\\n5년 초과 10년 이하 | 500만원+200만원×(근속연수−5)\\n10년 초과 20년 이하 | 1천500만원+250만원×(근속연수−10)\\n법제처 | 31 | 국가법령정보센터'),\n",
       "  Document(id='cfff6763-b959-4bc3-8dbe-38a218a8c1e8', metadata={'source': './documents/income_tax.txt'}, page_content='5년 이하: 30만원 → 납입연수\\n5년 초과 10년 이하: 150만원 + 50만원 × (납입연수 - 5년)\\n10년 초과 20년 이하: 400만원 + 80만원 × (납입연수 - 10년)\\n20년 초과: 1,200만원 + 120만원 × (납입연수 - 20년)\\n\\n② 직장근로자 초과관세환급금을 분배하여 지급받는 경우 세액의 계산 방법 등 필요한 사항은 대통령령으로 정한다. \\n<대통령 2014. 12. 23.>\\n<전문개정 2009. 12. 31.>\\n제64조(부동산매매업자에 대한 세액 계산의 특례)\\n1) 대통령령으로 정하는 부동산매매업(이하 “부동산매매업”이라 한다)을 영위하는 거주자가 이하 “부동산매매업자”라 한다)로서 종합소득세법에 제104조제1항제1호(본항을 포함한다) 및 제103조 또는 같은 조 제7항 각 호의 어느 하나에 해당하는 자산의 매매자익(이하 “주택등매매차익”이라 한다)이 있는 자의 종합소득 산출세액은 다음 각 호의 세액 중 많은 것으로 한다. \\n<개정 2014. 12. 23., 2017. 12. 19., 2020. 12. 29.>\\n1. 종합소득 산출세액\\n\\n다음 각 목에 따른 세액의 합계액\\n  가. 주택등매매차익에 따른 세율을 적용하여 산출한 세액의 합계액\\n  나. 종합소득세법 제55조에 따라 주택등매매차익에 대한 개별세액을 공제한 금액을 과세표준으로 하고 이에 제55조에 따른 세율을 적용하여 산출세액'),\n",
       "  Document(id='be75bc8b-e431-4b6a-b3ec-22bcc177c567', metadata={'source': './documents/income_tax.txt'}, page_content='130만원 이하   \\n산출세액의 10분의 55 \\n130만원 초과   \\n71천원과 (130만원을 초과하는 금액의 10분의 30)  \\n\\n② 제1항에 대하여 공제받는 다음 각 호의 계산에 따른 금액을 초과하는 경우에 초과하는 금액은 없는 것으로 한다. <신설 2014. 1. 1., 2015. 5. 13., 2022. 12. 31.>\\n1. 총급여액이 3천만원 이하인 경우: 74천원 = (총급여액 - 300만원) × 8/1000. 단, 위 금액은 적은 경우 6천원으로 한다.\\n2. 총급여액이 3천만원 초과 7천만원 이하인 경우: 66천원 = (총급여액 - 7천만원) × 1/2. 단, 위 금액이 50만원보다 적은 경우에는 50만원으로 한다.\\n3. 총급여액이 1억원 미만일 경우에는 경우: 50만원 = (총급여액 - 1억원) × 1/2. 단, 위 금액이 20만원보다 적은 경우에는 20만원으로 한다.\\n4. 일금공로자의 근로소득에 대해 제134조제3항에 대한 원천징수를 하는 경우에는 해도 근로소득에 대한 산출세액의 100세 50에 해당하는 금액은 그 산출세액에 적용된다. <개정 2014. 1. 1.>\\n[전문개정 2021. 1.]  \\n제59조2의2(자산세예고제)\\n① 종합소득에 있는 거주자이기 근로제대상자에 해당하는 자녀(입장 및 위탁아동을 포함하며, 이하 이 조에서 \"공제대상자\"라 한다) 및 소득세법 제57조 이상의 사례에 대해서는 다음 각 호의 구분에 따른 금액을 종합소득세법에 공제받는다. <개정 2015. 5. 13., 2017. 12. 31., 2018. 12. 19., 2019. 12. 31., 2022. 12. 31., 2023. 12. 31.>  \\n\\n1명인 경우: 연 15만원\\n2명인 경우: 연 35만원\\n3명 이상인 경우: 연 35만원과 2명을 초과하는 1명당 연 30만원을 합한 금액\\n③ 삭제: 2017. 12. 19.\\n④ 해당 과세기간에 출산하거나 입양 신고한 경우 각 호의 구분에 따른 금액을 공통적으로 환산특수산출세액에 세액해당. <신설 2015. 5. 13., 2016. 12. 20.>\\n출산하거나 입양 신고한 공제대상자녀가 첫째인 경우: 연 30만원\\n출산하거나 입양 신고한 공제대상자녀가 둘째인 경우: 연 50만원\\n출산하거나 입양 신고한 공제대상자녀가 셋째 이상인 경우: 연 70만원\\n④ 제1항 및 제3항에 따른 공제는 \"자녀세액공제\"라 한다. <신설 2015. 5. 13., 2017. 12. 19.>\\n[본조신설 2014. 1. 1.]\\n[중전 제59조의2는 제59조의3으로 이동 <2014. 1. 1.>]')],\n",
       " 'answer': AIMessage(content='연봉 5천만원의 경우, 소득세 계산은 기본 공제와 세율을 적용하여 이루어집니다. 상세한 세율은 급여 수준에 따라 달라지기 때문에 정확한 세금액을 알기 위해서는 소득세 법규를 참고하거나 세무사와 상담하는 것이 좋습니다. 정확한 세액 산출에 필요한 정보는 제공된 컨텍스트에는 포함되어 있지 않습니다.', additional_kwargs={'refusal': None}, response_metadata={'token_usage': {'completion_tokens': 94, 'prompt_tokens': 1621, 'total_tokens': 1715, 'completion_tokens_details': {'accepted_prediction_tokens': 0, 'audio_tokens': 0, 'reasoning_tokens': 0, 'rejected_prediction_tokens': 0}, 'prompt_tokens_details': {'audio_tokens': 0, 'cached_tokens': 0}}, 'model_name': 'gpt-4o-mini-2024-07-18', 'system_fingerprint': 'fp_72ed7ab54c', 'finish_reason': 'stop', 'logprobs': None}, id='run-b93574ef-f10d-4315-ad98-bd3e71b39674-0', usage_metadata={'input_tokens': 1621, 'output_tokens': 94, 'total_tokens': 1715, 'input_token_details': {'audio': 0, 'cache_read': 0}, 'output_token_details': {'audio': 0, 'reasoning': 0}})}"
      ]
     },
     "execution_count": 14,
     "metadata": {},
     "output_type": "execute_result"
    }
   ],
   "source": [
    "initial_state = {'query': '연봉 5천만원 세금'}\n",
    "print(f'initial_state == {initial_state}')\n",
    "graph.invoke(initial_state)\n"
   ]
  }
 ],
 "metadata": {
  "kernelspec": {
   "display_name": "inflearn-langgraph-lecture",
   "language": "python",
   "name": "python3"
  },
  "language_info": {
   "codemirror_mode": {
    "name": "ipython",
    "version": 3
   },
   "file_extension": ".py",
   "mimetype": "text/x-python",
   "name": "python",
   "nbconvert_exporter": "python",
   "pygments_lexer": "ipython3",
   "version": "3.12.2"
  }
 },
 "nbformat": 4,
 "nbformat_minor": 2
}
